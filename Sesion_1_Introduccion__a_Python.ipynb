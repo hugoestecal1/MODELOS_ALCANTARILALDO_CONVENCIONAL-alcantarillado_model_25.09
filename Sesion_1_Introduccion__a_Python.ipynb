{
  "cells": [
    {
      "cell_type": "markdown",
      "metadata": {
        "id": "view-in-github",
        "colab_type": "text"
      },
      "source": [
        "<a href=\"https://colab.research.google.com/github/hugoestecal1/MODELOS_ALCANTARILALDO_CONVENCIONAL-alcantarillado_model_25.09/blob/master/Sesion_1_Introduccion__a_Python.ipynb\" target=\"_parent\"><img src=\"https://colab.research.google.com/assets/colab-badge.svg\" alt=\"Open In Colab\"/></a>"
      ]
    },
    {
      "cell_type": "markdown",
      "metadata": {
        "id": "9-pPSSUQWeqq"
      },
      "source": [
        "\n",
        "# <center> INTRODUCCIÓN a PYTHON </center>\n",
        "\n",
        "## 1. ¿Qué es Python?\n",
        "Python es un lenguaje de programación de alto nivel multiparadigma que permite:\n",
        "\n",
        "* Programación imperativa\n",
        "* Programación funcional\n",
        "* Programación orientada a objetos"
      ]
    },
    {
      "cell_type": "code",
      "source": [],
      "metadata": {
        "id": "MvOHLROfi9Zq"
      },
      "execution_count": null,
      "outputs": []
    },
    {
      "cell_type": "markdown",
      "metadata": {
        "id": "uX4OpLUPWd_E"
      },
      "source": [
        "## 2. Principales ventajas de Python\n",
        "\n",
        "* Es de código abierto (certificado por la OSI).\n",
        "* Es interpretable y compilable.\n",
        "* Es fácil de aprender gracias a que su sintaxis es bastante legible para los humanos.\n",
        "* Es un lenguaje maduro (29 años).\n",
        "* Es fácilmente extensible e integrable en otros lenguajes (C, java).\n",
        "* Esta mantenido por una gran comunidad de desarrolladores y hay multitud de recursos para su aprendizaje.\n"
      ]
    },
    {
      "cell_type": "markdown",
      "metadata": {
        "id": "vsbKPlanX0Mq"
      },
      "source": [
        "\n",
        "# <center> TIPOS DE DATOS </center>\n",
        "\n",
        "## 1. Tipos de datos primitivos simples\n",
        "\n",
        "### **Números enteros - Integer (int)**: Secuencia de dígitos (pueden incluir el - para negativos y el . para decimales) que representan números enteros.\n",
        "```\n",
        "  Ejemplo. 0, -1, 2, 5, 7, 9\n",
        " ```\n",
        "### **Números décimales - Floating-point numbers (float)**: Secuencia de dígitos (pueden incluir el - para negativos y el . para decimales) que representan números décimales.\n",
        "```\n",
        "  Ejemplo. 3.1415, -2.3, 1.66, 2.3\n",
        " ```\n",
        "### **Cadenas (strings)**: Secuencia de caracteres alfanuméricos que representan texto. Se escriben entre comillas simples o dobles.\n",
        "```\n",
        " Ejemplo. ‘Hola’, “Adiós”.\n",
        "```\n",
        "### **Booleanos (boolean)**: Contiene únicamente dos elementos True y False que representan los valores lógicos verdadero y falso respectivamente.\n",
        "```\n",
        " Ejemplo. True, False.\n",
        "```"
      ]
    },
    {
      "cell_type": "code",
      "source": [],
      "metadata": {
        "id": "weGtrwFejS77"
      },
      "execution_count": null,
      "outputs": []
    },
    {
      "cell_type": "markdown",
      "source": [
        "***mi primera clase***\n",
        "\n",
        "'''\n",
        "#Esta es la sección de mis codigos\n",
        "'''\n"
      ],
      "metadata": {
        "id": "_33JOdz3jZx0"
      }
    },
    {
      "cell_type": "code",
      "source": [],
      "metadata": {
        "id": "aUuS6v1vi-1a"
      },
      "execution_count": null,
      "outputs": []
    },
    {
      "cell_type": "code",
      "execution_count": null,
      "metadata": {
        "id": "WDe5ZMmmYSGO",
        "colab": {
          "base_uri": "https://localhost:8080/"
        },
        "outputId": "e4c0bbc6-c61e-4c6f-ae2c-1bf34fa8ccaa"
      },
      "outputs": [
        {
          "output_type": "execute_result",
          "data": {
            "text/plain": [
              "int"
            ]
          },
          "metadata": {},
          "execution_count": 1
        }
      ],
      "source": [
        "#Números enteros\n",
        "type(3)"
      ]
    },
    {
      "cell_type": "code",
      "execution_count": null,
      "metadata": {
        "id": "eug8YbWyi8jJ"
      },
      "outputs": [],
      "source": [
        "#Números decimales\n",
        "type(3.5)"
      ]
    },
    {
      "cell_type": "code",
      "execution_count": null,
      "metadata": {
        "id": "hlBEUULeYWnv"
      },
      "outputs": [],
      "source": [
        "#Cadena de texto\n",
        "type(\"El Hombre Araña\")"
      ]
    },
    {
      "cell_type": "code",
      "execution_count": null,
      "metadata": {
        "id": "u4r8x9ixi8jJ"
      },
      "outputs": [],
      "source": [
        "# Booleanos\n",
        "type(True)"
      ]
    },
    {
      "cell_type": "markdown",
      "metadata": {
        "id": "1ulMvsCBi8jK"
      },
      "source": [
        "## 2. Variables\n",
        "* **Definición técnica:** Una variable es el nombre asignado a una zona (casilla) de la MEMORIA RAM durante la ejecución de un programa con la finalidad de almacenar un dato o valor.\n",
        "\n",
        "* **Analogía:**  las variables son como cajas o contenedores en las que puedes poner diferentes cosas. Cada caja tiene un nombre para identificarla. En el caso de la programación, las variables son como cajas que guardan información, como números, palabras o cualquier otro dato."
      ]
    },
    {
      "cell_type": "code",
      "execution_count": null,
      "metadata": {
        "id": "sXycnTixi8jK"
      },
      "outputs": [],
      "source": [
        "# Variables que actúan como \"cajas\" para almacenar información\n",
        "nombre = \"Juan\"\n",
        "edad = 25\n",
        "respuesta = True"
      ]
    },
    {
      "cell_type": "code",
      "execution_count": null,
      "metadata": {
        "colab": {
          "base_uri": "https://localhost:8080/"
        },
        "id": "EeTj1mdYi8jK",
        "outputId": "746c38d2-4df3-4c73-eb3b-462dd111d535"
      },
      "outputs": [
        {
          "output_type": "stream",
          "name": "stdout",
          "text": [
            "<class 'str'>\n",
            "<class 'int'>\n",
            "<class 'bool'>\n"
          ]
        }
      ],
      "source": [
        "print(type(nombre))\n",
        "print(type(edad))\n",
        "print(type(respuesta))"
      ]
    },
    {
      "cell_type": "markdown",
      "metadata": {
        "id": "9oRBm2-gi8jK"
      },
      "source": [
        "> Reglas para crear variables:\n",
        "1. Nombres válidos: Los nombres de las variables deben ser válidos y seguir algunas reglas específicas:\n",
        "* El nombre debe comenzar con una letra (a-z, A-Z) o un guión bajo (_).\n",
        "* Luego del primer carácter, el nombre puede contener letras, números y guiones bajos.\n",
        "* Los nombres de las variables son sensibles a mayúsculas y minúsculas (por ejemplo, \"nombre\" y \"Nombre\" son diferentes variables).\n",
        "2. No utilizar palabras clave: No puedes usar palabras clave de Python como nombres de variables. Estas son palabras reservadas que Python utiliza para su propia sintaxis y funciones especiales. Algunas palabras clave comunes son: if, else, while, for, def, import, etc.\n",
        "N3. o utilizar caracteres especiales: Evita el uso de caracteres especiales como espacios, símbolos de puntuación o signos como parte del nombre de la variable. Solo se permiten letras, números y guiones bajos.\n",
        "4. No empezar con números: Los nombres de variables no pueden comenzar con un número, deben comenzar con una letra o un guión bajo."
      ]
    },
    {
      "cell_type": "markdown",
      "metadata": {
        "id": "i_3qTHg_Yg10"
      },
      "source": [
        "\n",
        "## 3. Entrada y Salida por Terminal\n",
        "\n",
        "### 3.1. Entrada por terminal (input())\n",
        "Para asignar a una variable un valor introducido por el usuario en la consola se utiliza la instrucción"
      ]
    },
    {
      "cell_type": "code",
      "execution_count": null,
      "metadata": {
        "id": "6PqKciCbi8jK"
      },
      "outputs": [],
      "source": [
        "# Paso 1: Función input permite ingresar una respuesta como un formulario\n",
        "input()"
      ]
    },
    {
      "cell_type": "code",
      "execution_count": 3,
      "metadata": {
        "id": "cgSTYeOwi8jK",
        "colab": {
          "base_uri": "https://localhost:8080/",
          "height": 1000
        },
        "collapsed": true,
        "outputId": "25964461-acaf-4562-bd92-bc11bdeeb28b"
      },
      "outputs": [
        {
          "name": "stdout",
          "output_type": "stream",
          "text": [
            "¿Cuál es tu edad?80\n"
          ]
        },
        {
          "output_type": "execute_result",
          "data": {
            "text/plain": [
              "'80'"
            ],
            "application/vnd.google.colaboratory.intrinsic+json": {
              "type": "string"
            }
          },
          "metadata": {},
          "execution_count": 3
        }
      ],
      "source": [
        "# Paso 2: Puedes incluir un mensaje en el input para facilitar al usuario del input\n",
        "input('¿Cuál es tu edad?')"
      ]
    },
    {
      "cell_type": "code",
      "execution_count": 4,
      "metadata": {
        "id": "6vAExPfYi8jL",
        "colab": {
          "base_uri": "https://localhost:8080/"
        },
        "outputId": "37a02a62-e120-4d46-f38f-306c910e0af4"
      },
      "outputs": [
        {
          "name": "stdout",
          "output_type": "stream",
          "text": [
            "¿Cuál es tu edad?55\n"
          ]
        }
      ],
      "source": [
        "# Paso 3: Podemos guardar la respuesta ingresado en una variable\n",
        "edad = input('¿Cuál es tu edad?')"
      ]
    },
    {
      "cell_type": "code",
      "execution_count": 5,
      "metadata": {
        "id": "WBqoHR-3i8jL",
        "colab": {
          "base_uri": "https://localhost:8080/"
        },
        "outputId": "4023e42c-c39a-4253-fcf3-e923574751ec"
      },
      "outputs": [
        {
          "output_type": "stream",
          "name": "stdout",
          "text": [
            "55\n"
          ]
        }
      ],
      "source": [
        "# Paso 4: Podemos utilizar la respuesta\n",
        "print(edad)"
      ]
    },
    {
      "cell_type": "code",
      "execution_count": 6,
      "metadata": {
        "id": "roGackE5Y6L0",
        "colab": {
          "base_uri": "https://localhost:8080/"
        },
        "outputId": "6413726e-0a04-469e-c9e4-214306f74a02"
      },
      "outputs": [
        {
          "output_type": "execute_result",
          "data": {
            "text/plain": [
              "str"
            ]
          },
          "metadata": {},
          "execution_count": 6
        }
      ],
      "source": [
        "# IMPORTANTE: La respuesta de INPUT siempre es de tipo STR\n",
        "type(edad)"
      ]
    },
    {
      "cell_type": "code",
      "execution_count": 7,
      "metadata": {
        "id": "eh-wT3bWi8jL"
      },
      "outputs": [],
      "source": [
        "# Adicional: Si deseas CONVERTIR un texto en número seguir los siguientes pasos:\n"
      ]
    },
    {
      "cell_type": "markdown",
      "metadata": {
        "id": "Lw_tu5qcZJpt"
      },
      "source": [
        "\n",
        "### 3.2. Salida por terminal (print())\n",
        "Para mostrar un dato por la terminal se utiliza la instrucción\n",
        "\n",
        "```\n",
        "print(dato1, ..., sep=' ', end='\\n', file=sys.stdout)\n",
        "```\n",
        "\n",
        "donde\n",
        "\n",
        "* dato1, ... son los datos a imprimir y pueden indicarse tantos como se quieran separados por comas.\n",
        "* sep establece el separador entre los datos, que por defecto es un espacio en blanco ' '.\n",
        "* end indica la cadena final de la impresión, que por defecto es un cambio de línea \\n.\n",
        "* file indica la dirección del flujo de salida, que por defecto es la salida estándar sys.stdout."
      ]
    },
    {
      "cell_type": "code",
      "execution_count": 8,
      "metadata": {
        "id": "Hf_QguyWZgIJ",
        "colab": {
          "base_uri": "https://localhost:8080/"
        },
        "outputId": "0572e256-2fe7-4de5-d7fa-fd6fb5ab9202"
      },
      "outputs": [
        {
          "output_type": "stream",
          "name": "stdout",
          "text": [
            "Hola\n"
          ]
        }
      ],
      "source": [
        "print('Hola')"
      ]
    },
    {
      "cell_type": "code",
      "execution_count": 9,
      "metadata": {
        "id": "cocYVevYZm-k",
        "colab": {
          "base_uri": "https://localhost:8080/"
        },
        "outputId": "3d437ee6-795b-4565-da5d-e2848305f503"
      },
      "outputs": [
        {
          "output_type": "stream",
          "name": "stdout",
          "text": [
            "El valor de pi es 3.1415\n"
          ]
        }
      ],
      "source": [
        "print('El valor de pi es', 3.1415)  #la \",\" dentro de un print es un espacio"
      ]
    },
    {
      "cell_type": "code",
      "execution_count": 10,
      "metadata": {
        "id": "3ZYGVDFpZqJE",
        "colab": {
          "base_uri": "https://localhost:8080/"
        },
        "outputId": "2b3e3092-9ace-4e94-ec15-990e50b746e9"
      },
      "outputs": [
        {
          "output_type": "stream",
          "name": "stdout",
          "text": [
            "Hola Luis\n"
          ]
        }
      ],
      "source": [
        "name = 'Luis'\n",
        "print('Hola', name)"
      ]
    },
    {
      "cell_type": "code",
      "source": [
        "trabajo = 'Wc'\n",
        "print(\"tu trabajas en\", trabajo)"
      ],
      "metadata": {
        "colab": {
          "base_uri": "https://localhost:8080/"
        },
        "id": "UWvJuNBto38k",
        "outputId": "b14cd112-1506-4676-dac1-60721f567b64"
      },
      "execution_count": 15,
      "outputs": [
        {
          "output_type": "stream",
          "name": "stdout",
          "text": [
            "tu trabajas en Wc\n"
          ]
        }
      ]
    },
    {
      "cell_type": "code",
      "execution_count": 22,
      "metadata": {
        "id": "u_YYvR3hZ3Cx",
        "colab": {
          "base_uri": "https://localhost:8080/"
        },
        "outputId": "ae3d4262-2438-464c-d7db-7567fc1d8ae3"
      },
      "outputs": [
        {
          "output_type": "stream",
          "name": "stdout",
          "text": [
            "Hola Luis GAMEZ\n"
          ]
        }
      ],
      "source": [
        "name = 'Luis'\n",
        "apellido = \"GAMEZ\"\n",
        "print('Hola', name, apellido ,sep=' ')  #sep: separador\n"
      ]
    },
    {
      "cell_type": "code",
      "execution_count": 28,
      "metadata": {
        "id": "ahQpNqp3ZwJ9",
        "colab": {
          "base_uri": "https://localhost:8080/"
        },
        "outputId": "5f157289-eda6-418a-885b-d58d5438fc77"
      },
      "outputs": [
        {
          "output_type": "stream",
          "name": "stdout",
          "text": [
            "Hola-Alf-zarta!\n",
            "Continuación\n"
          ]
        }
      ],
      "source": [
        "# \\n = Es un salto de Linea\n",
        "# \\t = Es un tabulador ( 4 espacios)\n",
        "name ='Alf'\n",
        "apellido = \"zarta\"\n",
        "print('Hola', name,apellido,sep=\"-\", end='!\\n')\n",
        "print('Continuación')"
      ]
    },
    {
      "cell_type": "markdown",
      "metadata": {
        "id": "jF3Lg_9Wa710"
      },
      "source": [
        "# <center>  OPERADORES ARITMÉTICOS </center>\n",
        "## 1. Operadores aritméticos:\n",
        "* Suma +\n",
        "* Resta -\n",
        "* Producto *\n",
        "* Cociente /\n",
        "* Cociente división entera //\n",
        "* Resto división entera %\n",
        "* Potencia **"
      ]
    },
    {
      "cell_type": "markdown",
      "metadata": {
        "id": "pPolSKwsbbhn"
      },
      "source": [
        "**NOTA:** Orden de prioridad de evaluación:\n",
        "\n",
        "1. Funciones predefinidas\n",
        "2. Parentesis\n",
        "3.\tPotencias\n",
        "4.\tProductos y cocientes\n",
        "5.\tSumas y restas\n",
        "\n",
        "Se puede saltar el orden de evaluación utilizando paréntesis ( )."
      ]
    },
    {
      "cell_type": "code",
      "execution_count": 29,
      "metadata": {
        "id": "78miZjFTbr3t",
        "colab": {
          "base_uri": "https://localhost:8080/"
        },
        "outputId": "3f8778dc-d8a6-4300-b4a2-fca0216063fe"
      },
      "outputs": [
        {
          "output_type": "execute_result",
          "data": {
            "text/plain": [
              "5"
            ]
          },
          "metadata": {},
          "execution_count": 29
        }
      ],
      "source": [
        "2+3"
      ]
    },
    {
      "cell_type": "code",
      "execution_count": 30,
      "metadata": {
        "id": "NV9V-G5pbtmw",
        "colab": {
          "base_uri": "https://localhost:8080/"
        },
        "outputId": "69521b3c-b016-472a-c68c-72c800dae0eb"
      },
      "outputs": [
        {
          "output_type": "execute_result",
          "data": {
            "text/plain": [
              "-10"
            ]
          },
          "metadata": {},
          "execution_count": 30
        }
      ],
      "source": [
        "5*-2"
      ]
    },
    {
      "cell_type": "code",
      "execution_count": 31,
      "metadata": {
        "id": "3-C0aGCZbvOm",
        "colab": {
          "base_uri": "https://localhost:8080/"
        },
        "outputId": "852bb800-4aba-4abe-a9cd-9f056931d2b9"
      },
      "outputs": [
        {
          "output_type": "execute_result",
          "data": {
            "text/plain": [
              "2.5"
            ]
          },
          "metadata": {},
          "execution_count": 31
        }
      ],
      "source": [
        "5/2"
      ]
    },
    {
      "cell_type": "code",
      "execution_count": 32,
      "metadata": {
        "id": "lyFHtjGPbxK3",
        "colab": {
          "base_uri": "https://localhost:8080/"
        },
        "outputId": "9396b8b2-2c95-40f9-de8c-5dc0e8c51378"
      },
      "outputs": [
        {
          "output_type": "execute_result",
          "data": {
            "text/plain": [
              "2"
            ]
          },
          "metadata": {},
          "execution_count": 32
        }
      ],
      "source": [
        "5//2"
      ]
    },
    {
      "cell_type": "code",
      "execution_count": null,
      "metadata": {
        "id": "AGGwZNznbzDS"
      },
      "outputs": [],
      "source": [
        "(2+3)**2"
      ]
    },
    {
      "cell_type": "markdown",
      "metadata": {
        "id": "m2KvYomfb3e6"
      },
      "source": [
        "## 2. Operadores lógicos con números\n",
        "Devuelven un valor lógico o booleano.\n",
        "\n",
        "* Operadores lógicos:\n",
        " * (igual que) ==\n",
        " * (mayor que) >\n",
        " * (menor que) <\n",
        " * (mayor o igual que) >=\n",
        " * (menor o igual que) <=\n",
        " * (distinto de) !="
      ]
    },
    {
      "cell_type": "code",
      "execution_count": null,
      "metadata": {
        "id": "uKIKV0FjcQmr"
      },
      "outputs": [],
      "source": [
        "3==3"
      ]
    },
    {
      "cell_type": "code",
      "execution_count": null,
      "metadata": {
        "id": "PCeqmVDGcSJR"
      },
      "outputs": [],
      "source": [
        "3.1<=3"
      ]
    },
    {
      "cell_type": "code",
      "execution_count": null,
      "metadata": {
        "id": "F_jjp4m6cTqp"
      },
      "outputs": [],
      "source": [
        "-1!=1"
      ]
    },
    {
      "cell_type": "code",
      "source": [
        "#EJEMPLO DE EXAMEN\n",
        "(2+3)*-2+5**2//4\n",
        "#5*-2+25//4\n",
        "#5*-2+6\n",
        "#-4"
      ],
      "metadata": {
        "colab": {
          "base_uri": "https://localhost:8080/"
        },
        "id": "I2R4QhmYw8hB",
        "outputId": "f2ac7a67-392c-464f-c483-e5ee3c5873a9"
      },
      "execution_count": 33,
      "outputs": [
        {
          "output_type": "execute_result",
          "data": {
            "text/plain": [
              "-4"
            ]
          },
          "metadata": {},
          "execution_count": 33
        }
      ]
    },
    {
      "cell_type": "markdown",
      "metadata": {
        "id": "w1hT4kIWcWWS"
      },
      "source": [
        "## Ejercicio 1\n",
        "Diseñe un programa que determine la Superficie (S) y el Perímetro (P) de un círculo del que se conoce  su radio (r) . Considere las siguientes fórmulas: S=2𝜋𝑟^2 y P=2𝜋 𝑟"
      ]
    },
    {
      "cell_type": "code",
      "execution_count": 39,
      "metadata": {
        "id": "JE8UnpGgcgQe",
        "colab": {
          "base_uri": "https://localhost:8080/"
        },
        "outputId": "84dc7b92-4cf5-4fdd-d51d-018f50889b6e"
      },
      "outputs": [
        {
          "output_type": "stream",
          "name": "stdout",
          "text": [
            "Ingrese el radio: 25\n",
            "La Superficie es 1963.5\n",
            "El Perimetro es 157.07999999999998\n"
          ]
        }
      ],
      "source": [
        "#Objetivbo: Calcular el Perimetro y la superficie\n",
        "#Paso 1: Solciitar el radio y guardarla en una varibale \"radio\" de tipo entero\n",
        "radio = int(input(\"Ingrese el radio: \"))\n",
        "#Paso 2: ingresar el valor de pi\n",
        "pi=3.1416\n",
        "#paso 3: Aplicamos la formula de Superficie\n",
        "S=pi*radio**2\n",
        "#Paso 4: Aplicamos la formula de Perimetro\n",
        "P=2*pi*radio\n",
        "#Paso 5: Mostramos los Resutlados\n",
        "print(\"La Superficie es\", round(S,2))\n",
        "print(\"El Perimetro es\", P)"
      ]
    },
    {
      "cell_type": "code",
      "execution_count": null,
      "metadata": {
        "id": "h2hMgbABchLE"
      },
      "outputs": [],
      "source": []
    },
    {
      "cell_type": "markdown",
      "metadata": {
        "id": "naurrxwJchnm"
      },
      "source": [
        "## Ejercicio 2\n",
        "\n",
        "Escribir un PROGRAMA EN PYTHON de un programa que permita leer el peso de una persona, calcule el IMC y posteriormente imprimirla.\n",
        "* Fórmula: IMC = Peso/(Estatura x Estatura)"
      ]
    },
    {
      "cell_type": "code",
      "execution_count": null,
      "metadata": {
        "id": "VBVFzQhccx57"
      },
      "outputs": [],
      "source": []
    },
    {
      "cell_type": "code",
      "execution_count": null,
      "metadata": {
        "id": "wpfNtg6IcyEs"
      },
      "outputs": [],
      "source": []
    },
    {
      "cell_type": "markdown",
      "metadata": {
        "id": "IihX6cKfcn_m"
      },
      "source": [
        "## Ejercicio 3\n",
        "Determinar la frecuencia cardiaca. El usuario debe proporcionarte su edad y su peso.\n",
        "* Formula: freq = 210 - 0.5 x edad - (0.01 x peso + 4)\n"
      ]
    },
    {
      "cell_type": "code",
      "execution_count": null,
      "metadata": {
        "id": "FfaWReLgcyoG"
      },
      "outputs": [],
      "source": []
    },
    {
      "cell_type": "code",
      "execution_count": null,
      "metadata": {
        "id": "swyiXg3Qcyv6"
      },
      "outputs": [],
      "source": []
    },
    {
      "cell_type": "markdown",
      "metadata": {
        "id": "lXqc7f7GekPw"
      },
      "source": [
        "## Ejercicio 4\n",
        "\n",
        "Hacer un formulario para registrar sus nombres, apellidos, fecha de nacimiento, su nota parcial y nota final. Una vez registrado sus datos mostrar en pantalla que se ha registrado con éxitos sus datos y la edad del participante y su promedio de notas.\n"
      ]
    },
    {
      "cell_type": "code",
      "execution_count": null,
      "metadata": {
        "id": "iAboduWnfD6z"
      },
      "outputs": [],
      "source": []
    },
    {
      "cell_type": "code",
      "execution_count": null,
      "metadata": {
        "id": "VCtvDIG9fEIm"
      },
      "outputs": [],
      "source": []
    }
  ],
  "metadata": {
    "colab": {
      "provenance": [],
      "include_colab_link": true
    },
    "kernelspec": {
      "display_name": "Python 3",
      "name": "python3"
    },
    "language_info": {
      "name": "python"
    }
  },
  "nbformat": 4,
  "nbformat_minor": 0
}